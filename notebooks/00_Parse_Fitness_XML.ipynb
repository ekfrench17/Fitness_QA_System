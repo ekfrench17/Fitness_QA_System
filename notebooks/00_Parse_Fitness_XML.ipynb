{
 "cells": [
  {
   "cell_type": "markdown",
   "id": "ab133dfb",
   "metadata": {},
   "source": [
    "# Parse XML Data into SQuAD2.0 JSON Format\n",
    "\n",
    "Written for xml data export from fitness.stackexchange.com"
   ]
  },
  {
   "cell_type": "code",
   "execution_count": null,
   "id": "8ef6467f",
   "metadata": {},
   "outputs": [],
   "source": [
    "import xml.etree.ElementTree as ET\n",
    "import html\n",
    "import re\n",
    "import json"
   ]
  },
  {
   "cell_type": "code",
   "execution_count": null,
   "id": "e35e4292",
   "metadata": {},
   "outputs": [],
   "source": [
    "def clean_html(raw_html):\n",
    "    \"\"\"\n",
    "    Removes HTML tags from a string using regex.\n",
    "    \"\"\"\n",
    "    clean = re.compile('<.*?>')\n",
    "    return re.sub(clean, '', raw_html)"
   ]
  },
  {
   "cell_type": "code",
   "execution_count": null,
   "id": "f04047f5",
   "metadata": {},
   "outputs": [],
   "source": [
    "def parse_to_squad_format(file_path, output_path=\"fitness_squad.json\", min_score=2):\n",
    "    \"\"\"\n",
    "    Parses StackExchange Posts.xml and converts to a SQuAD-style JSON dataset.\n",
    "    \n",
    "    Parameters:\n",
    "    - file_path: str, path to the Posts.xml file\n",
    "    - output_path: str, path to save the resulting JSON\n",
    "    - min_score: int, minimum score for a question to be included\n",
    "    \"\"\"\n",
    "\n",
    "    # Parse the XML\n",
    "    tree = ET.parse(file_path)\n",
    "    root = tree.getroot()\n",
    "\n",
    "    # Dictionaries to store questions and answers\n",
    "    questions = {}\n",
    "    answers = {}\n",
    "\n",
    "    # First pass: extract all questions and answers\n",
    "    for row in root:\n",
    "        attrib = row.attrib\n",
    "        post_type = attrib.get(\"PostTypeId\")\n",
    "\n",
    "        # --- Handle Questions ---\n",
    "        if post_type == \"1\":\n",
    "            post_id = attrib.get(\"Id\")\n",
    "            score = int(attrib.get(\"Score\", \"0\"))  # Default to 0 if missing\n",
    "            accepted_id = attrib.get(\"AcceptedAnswerId\")\n",
    "            title = attrib.get(\"Title\", \"\")\n",
    "            body = attrib.get(\"Body\", \"\")\n",
    "\n",
    "            if accepted_id and score >= min_score:\n",
    "                # Clean and combine title + body\n",
    "                question_text = title.strip() + \" \" + clean_html(html.unescape(body)).strip()\n",
    "\n",
    "                questions[post_id] = {\n",
    "                    \"question\": question_text,\n",
    "                    \"accepted_answer_id\": accepted_id\n",
    "                }\n",
    "\n",
    "        # --- Handle Answers ---\n",
    "        elif post_type == \"2\":\n",
    "            post_id = attrib.get(\"Id\")\n",
    "            body = attrib.get(\"Body\", \"\")\n",
    "            answer_text = clean_html(html.unescape(body)).strip()\n",
    "            answers[post_id] = answer_text\n",
    "\n",
    "    # Assemble the SQuAD-style JSON structure\n",
    "    squad_data = {\n",
    "        \"data\": [\n",
    "            {\n",
    "                \"title\": \"FitnessStackExchange\",\n",
    "                \"paragraphs\": []\n",
    "            }\n",
    "        ]\n",
    "    }\n",
    "\n",
    "    # Match questions with their accepted answers\n",
    "    for q_id, q_data in questions.items():\n",
    "        accepted_id = q_data[\"accepted_answer_id\"]\n",
    "\n",
    "        # Ensure the accepted answer exists\n",
    "        if accepted_id in answers:\n",
    "            context = answers[accepted_id]\n",
    "            question = q_data[\"question\"]\n",
    "\n",
    "            # Build one QA entry\n",
    "            qa_entry = {\n",
    "                \"context\": context,\n",
    "                \"qas\": [\n",
    "                    {\n",
    "                        \"id\": f\"fitness-{q_id}\",\n",
    "                        \"question\": question,\n",
    "                        \"answers\": [\n",
    "                            {\n",
    "                                \"text\": context,\n",
    "                                \"answer_start\": 0  # Whole answer as the span\n",
    "                            }\n",
    "                        ]\n",
    "                    }\n",
    "                ]\n",
    "            }\n",
    "\n",
    "            squad_data[\"data\"][0][\"paragraphs\"].append(qa_entry)\n",
    "\n",
    "    # Save the SQuAD-style JSON to a file\n",
    "    with open(output_path, \"w\") as f:\n",
    "        json.dump(squad_data, f, indent=2)\n",
    "\n",
    "    print(f\"Saved {len(squad_data['data'][0]['paragraphs'])} high-quality QA pairs to {output_path}\")\n"
   ]
  },
  {
   "cell_type": "code",
   "execution_count": null,
   "id": "9805769f",
   "metadata": {},
   "outputs": [
    {
     "name": "stdout",
     "output_type": "stream",
     "text": [
      "Saved 3262 high-quality QA pairs to fitness_squad_filtered.json\n"
     ]
    }
   ],
   "source": [
    "# Execute conversion\n",
    "file_path = 'Data/fitness.stackexchange.com/Posts.xml'\n",
    "parse_to_squad_format(file_path, output_path=\"fitness_squad_filtered.json\", min_score=2)\n"
   ]
  },
  {
   "cell_type": "code",
   "execution_count": 18,
   "id": "fe603994",
   "metadata": {},
   "outputs": [],
   "source": [
    "# load in the data as json format\n",
    "json_filepath = 'fitness_squad_filtered.json'\n",
    "\n",
    "with open(json_filepath, 'r') as f:\n",
    "    fit_data = json.load(f)"
   ]
  },
  {
   "cell_type": "code",
   "execution_count": 20,
   "id": "90dcaed7",
   "metadata": {},
   "outputs": [
    {
     "name": "stdout",
     "output_type": "stream",
     "text": [
      "Number of question and answer pairs: 3262\n"
     ]
    }
   ],
   "source": [
    "# example data\n",
    "print(\"Number of question and answer pairs:\",len(fit_data['data'][0]['paragraphs']))"
   ]
  },
  {
   "cell_type": "code",
   "execution_count": null,
   "id": "8adde939",
   "metadata": {},
   "outputs": [
    {
     "data": {
      "text/plain": [
       "{'context': 'The main difference is in the \"purity\", how much lactose and fat is left with the protein after filtering. Whey isolate usually contains around 90% protein and whey concentrate is more like 70-85%.\\n\\nIf you have trouble digesting the lactose or are trying to minimize carbohydrate content, then whey isolate would be a good choice. Otherwise, it probably doesn\\'t matter; just pick the concentrate since it\\'s cheaper in terms of protein grams/dollar.',\n",
       " 'qas': [{'id': 'fitness-2',\n",
       "   'question': \"What's the difference between Whey Isolate and Whey Concentrate in shakes? What's the difference? I'm looking at shake options and some contain whey isolate, some contain whey concentrate and some both.\",\n",
       "   'answers': [{'text': 'The main difference is in the \"purity\", how much lactose and fat is left with the protein after filtering. Whey isolate usually contains around 90% protein and whey concentrate is more like 70-85%.\\n\\nIf you have trouble digesting the lactose or are trying to minimize carbohydrate content, then whey isolate would be a good choice. Otherwise, it probably doesn\\'t matter; just pick the concentrate since it\\'s cheaper in terms of protein grams/dollar.',\n",
       "     'answer_start': 0}]}]}"
      ]
     },
     "execution_count": 17,
     "metadata": {},
     "output_type": "execute_result"
    }
   ],
   "source": [
    "# look at the first entry\n",
    "fit_data['data'][0]['paragraphs'][0]"
   ]
  }
 ],
 "metadata": {
  "kernelspec": {
   "display_name": "jupyter_nlp_project",
   "language": "python",
   "name": "python3"
  },
  "language_info": {
   "codemirror_mode": {
    "name": "ipython",
    "version": 3
   },
   "file_extension": ".py",
   "mimetype": "text/x-python",
   "name": "python",
   "nbconvert_exporter": "python",
   "pygments_lexer": "ipython3",
   "version": "3.12.10"
  }
 },
 "nbformat": 4,
 "nbformat_minor": 5
}
