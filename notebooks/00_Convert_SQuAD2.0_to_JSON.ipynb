{
 "cells": [
  {
   "cell_type": "markdown",
   "id": "74b2e67e",
   "metadata": {},
   "source": [
    "# Convert Data into SQuAD 2.0 JSON Format\n",
    "\n",
    "Written for SQuAD2.0 data sourced from kaggle"
   ]
  },
  {
   "cell_type": "code",
   "execution_count": null,
   "id": "8dbb55da",
   "metadata": {},
   "outputs": [],
   "source": [
    "!pip install kagglehub"
   ]
  },
  {
   "cell_type": "code",
   "execution_count": 7,
   "id": "82bfae16",
   "metadata": {},
   "outputs": [],
   "source": [
    "import os\n",
    "import re\n",
    "import json\n",
    "import csv\n",
    "import ast\n",
    "import numpy as np"
   ]
  },
  {
   "cell_type": "code",
   "execution_count": null,
   "id": "23d82f77",
   "metadata": {},
   "outputs": [],
   "source": [
    "# Code from kaggle site for download of dataset\n",
    "import kagglehub\n",
    "\n",
    "# Download latest version; will download as a csv file\n",
    "path = kagglehub.dataset_download(\"thedevastator/squad2-0-a-challenge-for-question-answering-syst\")\n",
    "\n",
    "print(\"Path to dataset files:\", path)"
   ]
  },
  {
   "cell_type": "code",
   "execution_count": null,
   "id": "a3abfd89",
   "metadata": {},
   "outputs": [],
   "source": [
    "print(\"Files in dataset folder:\")\n",
    "print(os.listdir(path))"
   ]
  },
  {
   "cell_type": "markdown",
   "id": "f27bdf04",
   "metadata": {},
   "source": [
    "# Functions"
   ]
  },
  {
   "cell_type": "code",
   "execution_count": null,
   "id": "074bf0e9",
   "metadata": {},
   "outputs": [],
   "source": [
    "def parse_answers_column(answer_str):\n",
    "    try:\n",
    "        # clean the string to convert to dictionary\n",
    "        #cleaned_str = re.sub(r\"array\\((\\[.*?\\])[^)]*\\)\", r\"\\1\", answer_str)\n",
    "        cleaned_str = re.sub(r\"array\\(\\[(.*?)\\](?:,\\s*dtype=[^)]+)?\\)\", r\"[\\1]\", answer_str)\n",
    "\n",
    "        # Safely evaluate using numpy array support\n",
    "        #answer_dict = eval(answer_str, {\"array\": np.array, \"dtype\": lambda x: x})\n",
    "        # Conver string to dictionary safely\n",
    "        answer_dict = ast.literal_eval(cleaned_str)\n",
    "\n",
    "        # If both arrays are empty, it is unanswerable question\n",
    "        if(\n",
    "            isinstance(answer_dict,dict)\n",
    "            and isinstance(answer_dict.get(\"text\"), (list,np.ndarray))\n",
    "            and len(answer_dict[\"text\"])==0\n",
    "        ):\n",
    "            answers = [{'text':[], 'answer_start':[]}]\n",
    "            return answers, True\n",
    "        \n",
    "        # Convert back to SQuAD-style list of dicts\n",
    "        answers = [\n",
    "            { \"text\": t, \"answer_start\":s}\n",
    "            for t,s in zip(answer_dict[\"text\"], answer_dict[\"answer_start\"])\n",
    "        ]\n",
    "        return answers, False\n",
    "    \n",
    "    except Exception as e:\n",
    "        # return an error\n",
    "        print(f\"Error parsing answer string: {answer_str}\")\n",
    "        print(e)\n",
    "        return False, True"
   ]
  },
  {
   "cell_type": "code",
   "execution_count": null,
   "id": "265a766a",
   "metadata": {},
   "outputs": [],
   "source": [
    "def csv_to_squad_json(csv_filepath,json_filepath):\n",
    "    squad_data = {\"data\":[]}\n",
    "\n",
    "\n",
    "    with open(csv_filepath,'r') as csvfile:\n",
    "        # read in the CSV file as a dictionary - keys are column headers\n",
    "        csv_reader = csv.DictReader(csvfile)\n",
    "        \n",
    "        for row in csv_reader:\n",
    "            # Get the answers from the first row and parse for SQuAD format\n",
    "            parsed_answers, is_impossible = parse_answers_column(row[\"answers\"])\n",
    "\n",
    "            if parsed_answers == False:\n",
    "                continue\n",
    "\n",
    "            # Build the QA entry\n",
    "            qas = [{\n",
    "                \"id\":row[\"id\"],\n",
    "                \"question\": row[\"question\"],\n",
    "                \"answer\": parsed_answers[0]['text'],\n",
    "                \"answer_start\": parsed_answers[0]['answer_start'],\n",
    "                \"is_impossible\": is_impossible\n",
    "            }]\n",
    "    \n",
    "            # Format into SQuAD structure\n",
    "            squad_data[\"data\"].append({\n",
    "                \"title\": row[\"title\"],\n",
    "                \"paragraphs\": [{\n",
    "                    \"context\": row[\"context\"],\n",
    "                    \"qas\": qas\n",
    "                }]\n",
    "            })\n",
    "   \n",
    "\n",
    "    with open(json_filepath,'w') as jsonfile:\n",
    "        # write the squad formatted data to a JSON file, indent for readability\n",
    "        json.dump(squad_data, jsonfile, indent=4)\n",
    "\n",
    "    print(f\"Successfully wrote {len(squad_data['data'])} entries to {json_filepath}\")"
   ]
  },
  {
   "cell_type": "markdown",
   "id": "bb1888fe",
   "metadata": {},
   "source": [
    "# Process"
   ]
  },
  {
   "cell_type": "code",
   "execution_count": null,
   "id": "1c7f7149",
   "metadata": {},
   "outputs": [],
   "source": [
    "train_path = os.path.join(path, \"train.csv\")\n",
    "validation_path = os.path.join(path, \"validation.csv\")\n",
    "\n",
    "# Set the file path where the json file will be stored\n",
    "json_filepath_train = 'Data/train.json'\n",
    "json_filepath_validate = 'Data/validation.json'\n",
    "\n",
    "### Only needs to be run once - read in data from json after that ###\n",
    "# Function saves json to given filepath as a side effect\n",
    "csv_to_squad_json(train_path,json_filepath_train)\n",
    "csv_to_squad_json(validation_path,json_filepath_validate)"
   ]
  }
 ],
 "metadata": {
  "kernelspec": {
   "display_name": "jupyter_nlp_project",
   "language": "python",
   "name": "python3"
  },
  "language_info": {
   "codemirror_mode": {
    "name": "ipython",
    "version": 3
   },
   "file_extension": ".py",
   "mimetype": "text/x-python",
   "name": "python",
   "nbconvert_exporter": "python",
   "pygments_lexer": "ipython3",
   "version": "3.12.10"
  }
 },
 "nbformat": 4,
 "nbformat_minor": 5
}
